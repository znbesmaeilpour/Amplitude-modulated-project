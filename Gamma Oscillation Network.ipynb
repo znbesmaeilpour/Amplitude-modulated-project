{
 "cells": [
  {
   "cell_type": "markdown",
   "metadata": {},
   "source": [
    "# Here we use AdEx, spiking neuron model for modeling hippocampal Gamma Oscillations"
   ]
  },
  {
   "cell_type": "code",
   "execution_count": 6,
   "metadata": {},
   "outputs": [],
   "source": [
    "# inintializing parameters\n",
    "import numpy as np\n",
    "import pandas as pd\n",
    "import matplotlib.pyplot as plt\n"
   ]
  },
  {
   "cell_type": "code",
   "execution_count": 7,
   "metadata": {},
   "outputs": [],
   "source": [
    "tmax=120000                        # max time of simulation\n",
    "dt=0.05                            # sampling time (ms)\n",
    "fs=1/(dt/1000)                     #sampling frequency in HZ\n",
    "num_rep=6                          # number of repetition\n",
    "F=np.arange(10,50,1)               # frequency vector for spectrogram\n",
    "window=0.2*fs;                     # time window of spectrogram\n",
    "novelap=0.9*window                 # overlap in moving window for spectrogram (90% overlap)\n",
    "astim=30                           # stimulation amplitude\n",
    "fstim=5                            # stimulation frequency\n",
    "simtype=\"AM\"                       # stimulation type (ac,dc,AM)\n",
    "tstart=2*fs                        # stimulation start point (ms)\n",
    "tstop=4*fs                         # stimulation end time (ms)\n",
    "timev=np.arange(0,tmax-1,1/fs)     # time vector\n",
    "f_carier=1000"
   ]
  },
  {
   "cell_type": "markdown",
   "metadata": {},
   "source": [
    "Initialize number of neurons and single cell properties\n",
    "Time constant of excitatory neurons: 10 mS, inhibitory: 10 mS\n",
    "The network consist of 1000 adaptive-exponential integrate and fire model (AdEx) with 80% excitatory and 20% inhibitory"
   ]
  },
  {
   "cell_type": "code",
   "execution_count": 64,
   "metadata": {},
   "outputs": [],
   "source": [
    "N=1000                                         # total number of neurons in the active network\n",
    "Ne=int(0.8*N)                                  # number of excitatory neurons in network\n",
    "Ni_GABAa=int(0.2*N)                            # number of inhibitory neurons (GABAa)\n",
    "Ni_GABAb=int(0.05*N)                           # number of inhibitory neurons (GABAb type- slow)\n",
    "Vr=np.zeros((Ne+Ni_GABAa+Ni_GABAb,1))          # reset voltage for all the neurons\n",
    "Vr[0:Ne]=-55*np.ones((Ne,1))\n",
    "Vr[Ne:Ne+Ni_GABAa]=-62*np.ones((Ni_GABAa,1))\n",
    "Vr[Ne+Ni_GABAa:Ne+Ni_GABAa+Ni_GABAb]=-67*np.ones((Ni_GABAb,1))\n",
    "#Vr=np.array(-55*np.ones((Ne,1)),-62*np.ones((Ni_GABAa,1)),-67*np.ones((Ni_GABAb,1)))\n",
    "\n",
    "gL= np.zeros((Ne+Ni_GABAa+Ni_GABAb,1))         #leake conductance (nS)\n",
    "gL[0:Ne]=100*np.ones((Ne,1))\n",
    "gL[Ne:Ne+Ni_GABAa]=-100*np.ones((Ni_GABAa,1))\n",
    "gL[Ne+Ni_GABAa:Ne+Ni_GABAa+Ni_GABAb]=100*np.ones((Ni_GABAb,1))  \n",
    "\n",
    "EL=np.zeros((Ne+Ni_GABAa+Ni_GABAb,1))         # mV\n",
    "EL[0:Ne]=-55*np.ones((Ne,1))\n",
    "EL[Ne:Ne+Ni_GABAa]=-62*np.ones((Ni_GABAa,1))\n",
    "EL[Ne+Ni_GABAa:Ne+Ni_GABAa+Ni_GABAb]=-67*np.ones((Ni_GABAb,1))\n",
    "\n",
    "Cm=50*np.ones((Ne+Ni_GABAa+Ni_GABAb,1))  # membrane capacitance (pF)\n",
    "\n",
    "VT=np.zeros((Ne+Ni_GABAa+Ni_GABAb,1))         # threshold voltage (mV)\n",
    "VT[0:Ne]=-55*np.ones((Ne,1))\n",
    "VT[Ne:Ne+Ni_GABAa]=-62*np.ones((Ni_GABAa,1))\n",
    "VT[Ne+Ni_GABAa:Ne+Ni_GABAa+Ni_GABAb]=-67*np.ones((Ni_GABAb,1))\n",
    "\n",
    "tau_w=400*np.ones((Ne+Ni_GABAa+Ni_GABAb,1))\n",
    "ka= np.zeros((Ne+Ni_GABAa+Ni_GABAb,1))         # threshold voltage (mV)\n",
    "ka[0:Ne]=2.7*np.ones((Ne,1))\n",
    "ka[Ne:Ne+Ni_GABAa]=1*np.ones((Ni_GABAa,1))\n",
    "ka[Ne+Ni_GABAa:Ne+Ni_GABAa+Ni_GABAb]=1*np.ones((Ni_GABAb,1))\n",
    "\n",
    "b=np.zeros((Ne+Ni_GABAa+Ni_GABAb,1))    #adapting parameters pA\n",
    "b[0:Ne]=8*np.ones((Ne,1))\n",
    "\n",
    "a=np.zeros((Ne+Ni_GABAa+Ni_GABAb,1))    # nS\n",
    "a[0:Ne]=2*np.ones((Ne,1))\n"
   ]
  },
  {
   "cell_type": "code",
   "execution_count": 55,
   "metadata": {},
   "outputs": [],
   "source": [
    "## synapce parameters\n",
    "Vthre=-50                   # (mV) spiking threshold\n",
    "Ee=0                        # reversal potential excitatory (mV)\n",
    "Ei=-75                      # reversal potential inhibitory (mV)\n",
    "noiseNe=500\n",
    "noiseNi_GABAa=0                #interneouron noise\n",
    "noiseNi_GABAb=0\n",
    "\n",
    "Iexc=0\n",
    "Iinh_a=0\n",
    "Iinh_b=0\n",
    "tau_pyr=5\n",
    "tau_inh_a=8\n",
    "tau_inh_b=50\n",
    "W=np.zeros((Ne+Ni_GABAa+Ni_GABAb,Ne+Ni_GABAa+Ni_GABAb))   # synaptic connection matrix \n",
    "density=0.4\n",
    "## synaptic connection matrix\n",
    "\n",
    "from scipy.sparse import random\n",
    "s1=random(Ne,Ne,density=0.15)                 # excitatory neourons are connected in sparse way with 0.15 density\n",
    "W[0:Ne,0:Ne]=0.3*(s1.A)\n",
    "\n",
    "s2=random(0:Ne,Ne:Ne+Ni_GABAa,density=0.4) \n",
    "W[0:Ne,Ne:Ne+Ni_GABAa]=1.4*(s2.A)\n",
    "\n",
    "s3=random(Ne:Ne+Ni_GABAa,0:Ne,density=0.4) \n",
    "W[Ne:Ne+Ni_GABAa,0:Ne]=1.4*(s3.A)\n",
    "\n",
    "s4=random(0:Ne,0:Ni_GABAb,density=0.4) \n",
    "W[0:Ne,Ne+Ni_GABAa:Ne+Ni_GABAa+Ni_GABAb]=0*(s4.A)\n",
    "\n",
    "s5=random(0:Ni_GABAb,0:Ne,density=0.4) \n",
    "W[Ne+Ni_GABAa:Ne+Ni_GABAa+Ni_GABAb,]=0*(s5.A)\n",
    "\n"
   ]
  },
  {
   "cell_type": "code",
   "execution_count": 58,
   "metadata": {},
   "outputs": [
    {
     "data": {
      "text/plain": [
       "array([[0.37828676, 0.        , 0.        ],\n",
       "       [0.        , 0.        , 0.        ]])"
      ]
     },
     "execution_count": 58,
     "metadata": {},
     "output_type": "execute_result"
    }
   ],
   "source": [
    "import math as m\n",
    "for jj=1:num_rep:\n",
    "        v=[]\n",
    "        v[:,1]=Vr\n",
    "        Iw=[]\n",
    "        Istim=np.zeros((Ne+Ni_GABAa+Ni_GABAb,tmax))\n",
    "        Isyn=np.zeros((Ne+Ni_GABAa+Ni_GABAb,tmax))\n",
    "        Iw(:,1)=np.zeros((Ne+Ni_GABAa+Ni_GABAb,1))\n",
    "        firing=[]\n",
    "        firing_time=np.zeros((Ne+Ni_GABAa+Ni_GABAb,tmax))\n",
    "        for t=1:tmax:\n",
    "                if t>tstart and t<tstop:\n",
    "                    if stimtype=='ac':\n",
    "                        Istim[0:Ne,t]=astim*np.sin(2*pi*fstim*((t-tstart)/fs))\n",
    "                    elif stimtype=='dc':\n",
    "                        Istim[0:Ne,t]=astim\n",
    "                    elif stimtype=='AM':\n",
    "                        Istim[0:Ne,t]=0.5*stimAM*(np.sin(2*m.pi*(fstim+f_carier)*((t-tstart)/fs))-np.sin(2*m.pif_carrier*((t-tstart)/fs)))\n",
    "                        \n",
    "                \n",
    "                        \n",
    "                        \n",
    "                        \n",
    "                    \n",
    "                    \n",
    "                    \n",
    "                "
   ]
  },
  {
   "cell_type": "code",
   "execution_count": null,
   "metadata": {},
   "outputs": [],
   "source": []
  },
  {
   "cell_type": "code",
   "execution_count": null,
   "metadata": {},
   "outputs": [],
   "source": []
  },
  {
   "cell_type": "code",
   "execution_count": null,
   "metadata": {},
   "outputs": [],
   "source": []
  }
 ],
 "metadata": {
  "kernelspec": {
   "display_name": "Python 3",
   "language": "python",
   "name": "python3"
  },
  "language_info": {
   "codemirror_mode": {
    "name": "ipython",
    "version": 3
   },
   "file_extension": ".py",
   "mimetype": "text/x-python",
   "name": "python",
   "nbconvert_exporter": "python",
   "pygments_lexer": "ipython3",
   "version": "3.8.8"
  }
 },
 "nbformat": 4,
 "nbformat_minor": 2
}
